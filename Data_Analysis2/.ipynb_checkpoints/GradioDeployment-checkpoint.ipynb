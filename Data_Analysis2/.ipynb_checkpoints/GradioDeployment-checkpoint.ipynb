{
 "cells": [
  {
   "cell_type": "code",
   "execution_count": 34,
   "id": "096a3f89-8b63-40db-a9c0-133394bb2819",
   "metadata": {},
   "outputs": [],
   "source": [
    "from tensorflow.keras.models import load_model\n",
    "\n",
    "# Load the saved model\n",
    "model = load_model('employee_attrition_model.keras')\n"
   ]
  },
  {
   "cell_type": "code",
   "execution_count": 35,
   "id": "5ab38d37-8f61-4507-85a3-1ca88d4a3422",
   "metadata": {},
   "outputs": [],
   "source": [
    "#Create the Prediction Function\n",
    "import pandas as pd\n",
    "from sklearn.preprocessing import LabelEncoder, StandardScaler\n",
    "\n",
    "# Assuming label_encoders and scaler have been created and saved earlier\n",
    "# You may load them if saved, or recreate them if necessary\n",
    "\n",
    "def predict_attrition(Age, BusinessTravel, DailyRate, Department, DistanceFromHome, Education, EducationField,\n",
    "                      EnvironmentSatisfaction, Gender, HourlyRate, JobInvolvement, JobLevel, JobRole, JobSatisfaction,\n",
    "                      MaritalStatus, MonthlyIncome, MonthlyRate, NumCompaniesWorked, OverTime, PercentSalaryHike,\n",
    "                      PerformanceRating, RelationshipSatisfaction, StockOptionLevel, TotalWorkingYears,\n",
    "                      TrainingTimesLastYear, WorkLifeBalance, YearsAtCompany, YearsInCurrentRole,\n",
    "                      YearsSinceLastPromotion, YearsWithCurrManager):\n",
    "    \n",
    "    # Preprocess input data\n",
    "    input_data = pd.DataFrame({\n",
    "        'Age': [Age],\n",
    "        'BusinessTravel': [BusinessTravel],\n",
    "        'DailyRate': [DailyRate],\n",
    "        'Department': [Department],\n",
    "        'DistanceFromHome': [DistanceFromHome],\n",
    "        'Education': [Education],\n",
    "        'EducationField': [EducationField],\n",
    "        'EnvironmentSatisfaction': [EnvironmentSatisfaction],\n",
    "        'Gender': [Gender],\n",
    "        'HourlyRate': [HourlyRate],\n",
    "        'JobInvolvement': [JobInvolvement],\n",
    "        'JobLevel': [JobLevel],\n",
    "        'JobRole': [JobRole],\n",
    "        'JobSatisfaction': [JobSatisfaction],\n",
    "        'MaritalStatus': [MaritalStatus],\n",
    "        'MonthlyIncome': [MonthlyIncome],\n",
    "        'MonthlyRate': [MonthlyRate],\n",
    "        'NumCompaniesWorked': [NumCompaniesWorked],\n",
    "        'OverTime': [OverTime],\n",
    "        'PercentSalaryHike': [PercentSalaryHike],\n",
    "        'PerformanceRating': [PerformanceRating],\n",
    "        'RelationshipSatisfaction': [RelationshipSatisfaction],\n",
    "        'StockOptionLevel': [StockOptionLevel],\n",
    "        'TotalWorkingYears': [TotalWorkingYears],\n",
    "        'TrainingTimesLastYear': [TrainingTimesLastYear],\n",
    "        'WorkLifeBalance': [WorkLifeBalance],\n",
    "        'YearsAtCompany': [YearsAtCompany],\n",
    "        'YearsInCurrentRole': [YearsInCurrentRole],\n",
    "        'YearsSinceLastPromotion': [YearsSinceLastPromotion],\n",
    "        'YearsWithCurrManager': [YearsWithCurrManager]\n",
    "    })\n",
    "\n",
    "    # Encode categorical variables\n",
    "    for column in input_data.select_dtypes(include=['object']).columns:\n",
    "        input_data[column] = label_encoders[column].transform(input_data[column])\n",
    "\n",
    "    # Standardize numerical features\n",
    "    input_data = scaler.transform(input_data)\n",
    "\n",
    "    # Predict using the loaded model\n",
    "    prediction = model.predict(input_data)\n",
    "    return \"Yes\" if prediction[0] > 0.5 else \"No\"\n"
   ]
  },
  {
   "cell_type": "code",
   "execution_count": 36,
   "id": "63e82ee4-e6f5-4d09-8936-e0809af18a4d",
   "metadata": {},
   "outputs": [
    {
     "name": "stdout",
     "output_type": "stream",
     "text": [
      "Running on local URL:  http://127.0.0.1:7860\n",
      "\n",
      "To create a public link, set `share=True` in `launch()`.\n"
     ]
    },
    {
     "data": {
      "text/html": [
       "<div><iframe src=\"http://127.0.0.1:7860/\" width=\"100%\" height=\"500\" allow=\"autoplay; camera; microphone; clipboard-read; clipboard-write;\" frameborder=\"0\" allowfullscreen></iframe></div>"
      ],
      "text/plain": [
       "<IPython.core.display.HTML object>"
      ]
     },
     "metadata": {},
     "output_type": "display_data"
    },
    {
     "data": {
      "text/plain": []
     },
     "execution_count": 36,
     "metadata": {},
     "output_type": "execute_result"
    },
    {
     "name": "stdout",
     "output_type": "stream",
     "text": [
      "\u001b[1m1/1\u001b[0m \u001b[32m━━━━━━━━━━━━━━━━━━━━\u001b[0m\u001b[37m\u001b[0m \u001b[1m0s\u001b[0m 118ms/step\n"
     ]
    }
   ],
   "source": [
    "# Set Up the Gradio Interface\n",
    "import gradio as gr\n",
    "\n",
    "# Create the Gradio interface\n",
    "iface = gr.Interface(\n",
    "    fn=predict_attrition,\n",
    "    inputs=[\n",
    "        gr.Number(label=\"Age\"),\n",
    "        gr.Dropdown(choices=list(dataset_df['BusinessTravel'].unique()), label=\"BusinessTravel\"),\n",
    "        gr.Number(label=\"DailyRate\"),\n",
    "        gr.Dropdown(choices=list(dataset_df['Department'].unique()), label=\"Department\"),\n",
    "        gr.Number(label=\"DistanceFromHome\"),\n",
    "        gr.Dropdown(choices=sorted(list(dataset_df['Education'].unique()), reverse=False), label=\"Education\"),\n",
    "        gr.Dropdown(choices=list(dataset_df['EducationField'].unique()), label=\"EducationField\"),\n",
    "        gr.Dropdown(choices=sorted(list(dataset_df['EnvironmentSatisfaction'].unique()), reverse=False), label=\"EnvironmentSatisfaction\"),\n",
    "        gr.Dropdown(choices=list(dataset_df['Gender'].unique()), label=\"Gender\"),\n",
    "        gr.Number(label=\"HourlyRate\"),\n",
    "        gr.Dropdown(choices=sorted(list(dataset_df['JobInvolvement'].unique()), reverse=False), label=\"JobInvolvement\"),\n",
    "        gr.Dropdown(choices=sorted(list(dataset_df['JobLevel'].unique()), reverse=False), label=\"JobLevel\"),\n",
    "        gr.Dropdown(choices=list(dataset_df['JobRole'].unique()), label=\"JobRole\"),\n",
    "        gr.Dropdown(choices=sorted(list(dataset_df['JobSatisfaction'].unique()), reverse=False), label=\"JobSatisfaction\"),\n",
    "        gr.Dropdown(choices=list(dataset_df['MaritalStatus'].unique()), label=\"MaritalStatus\"),\n",
    "        gr.Number(label=\"MonthlyIncome\"),\n",
    "        gr.Number(label=\"MonthlyRate\"),\n",
    "        gr.Number(label=\"NumCompaniesWorked\"),\n",
    "        gr.Dropdown(choices=list(dataset_df['OverTime'].unique()), label=\"OverTime\"),\n",
    "        gr.Number(label=\"PercentSalaryHike\"),\n",
    "        gr.Dropdown(choices=sorted(list(dataset_df['PerformanceRating'].unique()), reverse=False), label=\"PerformanceRating\"),\n",
    "        gr.Dropdown(choices=sorted(list(dataset_df['RelationshipSatisfaction'].unique()), reverse=False), label=\"RelationshipSatisfaction\"),\n",
    "        gr.Dropdown(choices=sorted(list(dataset_df['StockOptionLevel'].unique()), reverse=False), label=\"StockOptionLevel\"),\n",
    "        gr.Number(label=\"TotalWorkingYears\"),\n",
    "        gr.Number(label=\"TrainingTimesLastYear\"),\n",
    "        gr.Dropdown(choices=sorted(list(dataset_df['WorkLifeBalance'].unique()), reverse=False), label=\"WorkLifeBalance\"),\n",
    "        gr.Number(label=\"YearsAtCompany\"),\n",
    "        gr.Number(label=\"YearsInCurrentRole\"),\n",
    "        gr.Number(label=\"YearsSinceLastPromotion\"),\n",
    "        gr.Number(label=\"YearsWithCurrManager\")\n",
    "    ],\n",
    "    outputs=gr.Textbox(label=\"Attrition Prediction\"),\n",
    "    title=\"Employee Attrition Prediction\",\n",
    "    description=\"Predict if an employee will leave the company based on various features.\"\n",
    ")\n",
    "\n",
    "# Launch the Gradio interface in the notebook\n",
    "iface.launch()\n"
   ]
  },
  {
   "cell_type": "code",
   "execution_count": null,
   "id": "5e547f5d-64f7-4704-9a29-302e2ec7e24d",
   "metadata": {},
   "outputs": [],
   "source": []
  },
  {
   "cell_type": "code",
   "execution_count": null,
   "id": "9bb00724-221e-428f-a624-fa9804f537c5",
   "metadata": {},
   "outputs": [],
   "source": []
  },
  {
   "cell_type": "code",
   "execution_count": null,
   "id": "3ffe5b26-0885-47a3-95a4-3f1d75ccbb7a",
   "metadata": {},
   "outputs": [],
   "source": []
  },
  {
   "cell_type": "code",
   "execution_count": null,
   "id": "bda382b2-90ea-4231-9467-3bb301189b38",
   "metadata": {},
   "outputs": [],
   "source": []
  },
  {
   "cell_type": "code",
   "execution_count": null,
   "id": "a404343a-26b6-4719-8c96-74e4bc27e724",
   "metadata": {},
   "outputs": [],
   "source": []
  },
  {
   "cell_type": "code",
   "execution_count": null,
   "id": "0317fdea-5cc6-45f3-a321-dedb2d3f067c",
   "metadata": {},
   "outputs": [],
   "source": []
  }
 ],
 "metadata": {
  "kernelspec": {
   "display_name": "Python 3 (ipykernel)",
   "language": "python",
   "name": "python3"
  },
  "language_info": {
   "codemirror_mode": {
    "name": "ipython",
    "version": 3
   },
   "file_extension": ".py",
   "mimetype": "text/x-python",
   "name": "python",
   "nbconvert_exporter": "python",
   "pygments_lexer": "ipython3",
   "version": "3.12.4"
  }
 },
 "nbformat": 4,
 "nbformat_minor": 5
}
